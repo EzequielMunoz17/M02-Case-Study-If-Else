{
 "cells": [
  {
   "cell_type": "code",
   "execution_count": 7,
   "id": "7d4822a4",
   "metadata": {},
   "outputs": [
    {
     "name": "stdout",
     "output_type": "stream",
     "text": [
      "Too low\n"
     ]
    }
   ],
   "source": [
    "4.1\n",
    "secret = 8  # Assigning a number between 1 and 10 to the variable 'secret'\n",
    "guess = 7   # Assigning another number between 1 and 10 to the variable 'guess'\n",
    "\n",
    "if guess < secret:\n",
    "    print(\"Too low\")\n",
    "elif guess > secret:\n",
    "    print(\"Too high\")\n",
    "else:\n",
    "    print(\"Just right\")"
   ]
  },
  {
   "cell_type": "code",
   "execution_count": 8,
   "id": "d5a21538",
   "metadata": {},
   "outputs": [
    {
     "name": "stdout",
     "output_type": "stream",
     "text": [
      "Just right\n"
     ]
    }
   ],
   "source": [
    "4.1\n",
    "secret = 8  # Assigning a number between 1 and 10 to the variable 'secret'\n",
    "guess = 8   # Assigning another number between 1 and 10 to the variable 'guess'\n",
    "\n",
    "if guess < secret:\n",
    "    print(\"Too low\")\n",
    "elif guess > secret:\n",
    "    print(\"Too high\")\n",
    "else:\n",
    "    print(\"Just right\")"
   ]
  },
  {
   "cell_type": "code",
   "execution_count": 9,
   "id": "cd061b82",
   "metadata": {},
   "outputs": [
    {
     "name": "stdout",
     "output_type": "stream",
     "text": [
      "Too high\n"
     ]
    }
   ],
   "source": [
    "4.1\n",
    "secret = 8  # Assigning a number between 1 and 10 to the variable 'secret'\n",
    "guess = 10   # Assigning another number between 1 and 10 to the variable 'guess'\n",
    "\n",
    "if guess < secret:\n",
    "    print(\"Too low\")\n",
    "elif guess > secret:\n",
    "    print(\"Too high\")\n",
    "else:\n",
    "    print(\"Just right\")"
   ]
  },
  {
   "cell_type": "code",
   "execution_count": 10,
   "id": "5b67ca58",
   "metadata": {},
   "outputs": [
    {
     "name": "stdout",
     "output_type": "stream",
     "text": [
      "The choice is pea.\n"
     ]
    }
   ],
   "source": [
    "4.2\n",
    "small = True    # Assigning True or False to the variable 'small'\n",
    "green = True   # Assigning True or False to the variable 'green'\n",
    "\n",
    "if small and green:\n",
    "    print(\"The choice is pea.\")\n",
    "elif small and not green:\n",
    "    print(\"The choice is cherry.\")\n",
    "elif not small and green:\n",
    "    print(\"The choice is watermelon.\")\n",
    "else:\n",
    "    print(\"The choice is pumpkin.\")\n"
   ]
  },
  {
   "cell_type": "code",
   "execution_count": 11,
   "id": "62d0296b",
   "metadata": {},
   "outputs": [
    {
     "name": "stdout",
     "output_type": "stream",
     "text": [
      "The choice is cherry.\n"
     ]
    }
   ],
   "source": [
    "4.2\n",
    "small = True    # Assigning True or False to the variable 'small'\n",
    "green = False   # Assigning True or False to the variable 'green'\n",
    "\n",
    "if small and green:\n",
    "    print(\"The choice is pea.\")\n",
    "elif small and not green:\n",
    "    print(\"The choice is cherry.\")\n",
    "elif not small and green:\n",
    "    print(\"The choice is watermelon.\")\n",
    "else:\n",
    "    print(\"The choice is pumpkin.\")"
   ]
  },
  {
   "cell_type": "code",
   "execution_count": 12,
   "id": "ae00b1ff",
   "metadata": {},
   "outputs": [
    {
     "name": "stdout",
     "output_type": "stream",
     "text": [
      "The choice is pumpkin.\n"
     ]
    }
   ],
   "source": [
    "4.2\n",
    "small = False    # Assigning True or False to the variable 'small'\n",
    "green = False   # Assigning True or False to the variable 'green'\n",
    "\n",
    "if small and green:\n",
    "    print(\"The choice is pea.\")\n",
    "elif small and not green:\n",
    "    print(\"The choice is cherry.\")\n",
    "elif not small and green:\n",
    "    print(\"The choice is watermelon.\")\n",
    "else:\n",
    "    print(\"The choice is pumpkin.\")"
   ]
  },
  {
   "cell_type": "code",
   "execution_count": 13,
   "id": "ccc898d2",
   "metadata": {},
   "outputs": [
    {
     "name": "stdout",
     "output_type": "stream",
     "text": [
      "The choice is watermelon.\n"
     ]
    }
   ],
   "source": [
    "4.2\n",
    "small = False    # Assigning True or False to the variable 'small'\n",
    "green = True   # Assigning True or False to the variable 'green'\n",
    "\n",
    "if small and green:\n",
    "    print(\"The choice is pea.\")\n",
    "elif small and not green:\n",
    "    print(\"The choice is cherry.\")\n",
    "elif not small and green:\n",
    "    print(\"The choice is watermelon.\")\n",
    "else:\n",
    "    print(\"The choice is pumpkin.\")"
   ]
  },
  {
   "cell_type": "code",
   "execution_count": 14,
   "id": "ed5ac809",
   "metadata": {},
   "outputs": [
    {
     "name": "stdout",
     "output_type": "stream",
     "text": [
      "3\n",
      "2\n",
      "1\n",
      "0\n"
     ]
    }
   ],
   "source": [
    "6.1\n",
    "my_list = [3, 2, 1, 0]\n",
    "\n",
    "for value in my_list:\n",
    "    print(value)\n"
   ]
  },
  {
   "cell_type": "code",
   "execution_count": 15,
   "id": "8674a317",
   "metadata": {},
   "outputs": [
    {
     "name": "stdout",
     "output_type": "stream",
     "text": [
      "Too low\n",
      "Too low\n",
      "Too low\n",
      "Too low\n",
      "Too low\n",
      "Too low\n",
      "Found it!\n"
     ]
    }
   ],
   "source": [
    "6.2\n",
    "guess_me = 7\n",
    "number = 1\n",
    "\n",
    "while number <= guess_me:\n",
    "    if number < guess_me:\n",
    "        print(\"Too low\")\n",
    "    elif number == guess_me:\n",
    "        print(\"Found it!\")\n",
    "        break\n",
    "    else:\n",
    "        print(\"Oops\")\n",
    "        break\n",
    "    number += 1\n"
   ]
  },
  {
   "cell_type": "code",
   "execution_count": 26,
   "id": "c3fb5c57",
   "metadata": {},
   "outputs": [
    {
     "name": "stdout",
     "output_type": "stream",
     "text": [
      "Too low\n",
      "Too low\n",
      "Too low\n",
      "Too low\n",
      "Too low\n",
      "Found it!\n"
     ]
    }
   ],
   "source": [
    "6.3\n",
    "guess_me = 5\n",
    "\n",
    "for number in range(10):\n",
    "    if number < guess_me:\n",
    "        print('Too low')\n",
    "    elif number == guess_me:\n",
    "        print('Found it!')\n",
    "        break\n",
    "    else:\n",
    "        print('Oops')\n",
    "        break"
   ]
  },
  {
   "cell_type": "code",
   "execution_count": null,
   "id": "e5274221",
   "metadata": {},
   "outputs": [],
   "source": []
  }
 ],
 "metadata": {
  "kernelspec": {
   "display_name": "Python 3 (ipykernel)",
   "language": "python",
   "name": "python3"
  },
  "language_info": {
   "codemirror_mode": {
    "name": "ipython",
    "version": 3
   },
   "file_extension": ".py",
   "mimetype": "text/x-python",
   "name": "python",
   "nbconvert_exporter": "python",
   "pygments_lexer": "ipython3",
   "version": "3.10.9"
  }
 },
 "nbformat": 4,
 "nbformat_minor": 5
}
